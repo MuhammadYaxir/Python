{
 "cells": [
  {
   "cell_type": "code",
   "execution_count": 3,
   "metadata": {},
   "outputs": [
    {
     "name": "stdout",
     "output_type": "stream",
     "text": [
      "line one \n",
      "line two\n",
      "line three\n"
     ]
    }
   ],
   "source": [
    "from typing import TextIO\n",
    "\n",
    "data:TextIO = open(\"./../12_class(Error_and_File_Handling/abc.txt\") # connectivity with abc.txt file\n",
    "print(data.read())\n",
    "\n",
    "data.close() # close connectivity"
   ]
  },
  {
   "cell_type": "code",
   "execution_count": 5,
   "metadata": {},
   "outputs": [
    {
     "name": "stdout",
     "output_type": "stream",
     "text": [
      "<class '_io.TextIOWrapper'>\n",
      "line one \n",
      "line two\n",
      "line three\n",
      "Pakistan zinda bad!\n"
     ]
    }
   ],
   "source": [
    "with open(\"./../12_class(Error_and_File_Handling/abc.txt\") as file:  # type: TextIO\n",
    "    print(type(file))\n",
    "    print(file.read())\n",
    "\n",
    "print(\"Pakistan zinda bad!\")"
   ]
  },
  {
   "cell_type": "code",
   "execution_count": 8,
   "metadata": {},
   "outputs": [
    {
     "name": "stdout",
     "output_type": "stream",
     "text": [
      "<class '_io.TextIOWrapper'>\n",
      "line one \n",
      "\n",
      "line two\n",
      "\n",
      "line three\n",
      "\n"
     ]
    }
   ],
   "source": [
    "with open(\"./../12_class(Error_and_File_Handling/abc.txt\") as file:  # type: TextIO\n",
    "    print(type(file))\n",
    "    print(file.readline()) # read only one line (first line)\n",
    "    print(file.readline())# line2\n",
    "    print(file.readline())# line3\n",
    "    print(file.readline())# line4 is not available and it will not show any error"
   ]
  },
  {
   "cell_type": "code",
   "execution_count": 11,
   "metadata": {},
   "outputs": [
    {
     "name": "stdout",
     "output_type": "stream",
     "text": [
      "<class '_io.TextIOWrapper'>\n",
      "line one \n",
      "line two\n",
      "line three"
     ]
    }
   ],
   "source": [
    "with open(\"./../12_class(Error_and_File_Handling/abc.txt\") as file:  # type: TextIO\n",
    "    print(type(file))\n",
    "    print(file.readline(), end=\"\") # read only one line \n",
    "    print(file.readline(), end=\"\")# line2\n",
    "    print(file.readline(), end=\"\")# line3"
   ]
  },
  {
   "cell_type": "code",
   "execution_count": 13,
   "metadata": {},
   "outputs": [
    {
     "name": "stdout",
     "output_type": "stream",
     "text": [
      "<class '_io.TextIOWrapper'>\n",
      "['line one \\n', 'line two\\n', 'line three']\n"
     ]
    }
   ],
   "source": [
    "with open(\"./../12_class(Error_and_File_Handling/abc.txt\") as file:  # type: TextIO\n",
    "    print(type(file))\n",
    "    print(file.readlines()) # "
   ]
  },
  {
   "cell_type": "code",
   "execution_count": 19,
   "metadata": {},
   "outputs": [
    {
     "name": "stdout",
     "output_type": "stream",
     "text": [
      "<class '_io.TextIOWrapper'>\n",
      "['line one \\n', 'line two\\n', 'line three']\n"
     ]
    }
   ],
   "source": [
    "with open(\"./../12_class(Error_and_File_Handling/abc.txt\", 'r') as file:  # type: TextIO\n",
    "    print(type(file))\n",
    "    print(file.readlines()[:3]) "
   ]
  },
  {
   "cell_type": "code",
   "execution_count": 25,
   "metadata": {},
   "outputs": [
    {
     "name": "stdout",
     "output_type": "stream",
     "text": [
      "\n"
     ]
    },
    {
     "ename": "UnsupportedOperation",
     "evalue": "not writable",
     "output_type": "error",
     "traceback": [
      "\u001b[1;31m---------------------------------------------------------------------------\u001b[0m",
      "\u001b[1;31mUnsupportedOperation\u001b[0m                      Traceback (most recent call last)",
      "\u001b[1;32md:\\Panaverse\\Generative Ai Books\\Python\\12_clas_practice\\12practise.ipynb Cell 7\u001b[0m line \u001b[0;36m3\n\u001b[0;32m      <a href='vscode-notebook-cell:/d%3A/Panaverse/Generative%20Ai%20Books/Python/12_clas_practice/12practise.ipynb#W6sZmlsZQ%3D%3D?line=0'>1</a>\u001b[0m \u001b[39mwith\u001b[39;00m \u001b[39mopen\u001b[39m(\u001b[39m\"\u001b[39m\u001b[39m./../12_class(Error_and_File_Handling/abc.txt\u001b[39m\u001b[39m\"\u001b[39m, \u001b[39m'\u001b[39m\u001b[39mr\u001b[39m\u001b[39m'\u001b[39m) \u001b[39mas\u001b[39;00m file:  \u001b[39m# type: TextIO\u001b[39;00m\n\u001b[0;32m      <a href='vscode-notebook-cell:/d%3A/Panaverse/Generative%20Ai%20Books/Python/12_clas_practice/12practise.ipynb#W6sZmlsZQ%3D%3D?line=1'>2</a>\u001b[0m     \u001b[39mprint\u001b[39m(file\u001b[39m.\u001b[39mread())\n\u001b[1;32m----> <a href='vscode-notebook-cell:/d%3A/Panaverse/Generative%20Ai%20Books/Python/12_clas_practice/12practise.ipynb#W6sZmlsZQ%3D%3D?line=2'>3</a>\u001b[0m     file\u001b[39m.\u001b[39mwrite(\u001b[39m\"\u001b[39m\u001b[39mPakistan zinda bad\u001b[39m\u001b[39m\"\u001b[39m)\n",
      "\u001b[1;31mUnsupportedOperation\u001b[0m: not writable"
     ]
    }
   ],
   "source": [
    "with open(\"./../12_class(Error_and_File_Handling/abc.txt\", 'r') as file:  # type: TextIO\n",
    "    print(file.read())\n",
    "    file.write(\"Pakistan zinda bad\")"
   ]
  },
  {
   "cell_type": "code",
   "execution_count": 33,
   "metadata": {},
   "outputs": [
    {
     "name": "stdout",
     "output_type": "stream",
     "text": [
      "Pakistan zinda badPakistan zinda badPakistan zinda badPakistan is my countryPakistan zinda bad/nPakistan is my countryPakistan zinda bad\n",
      "Pakistan is my country\n"
     ]
    }
   ],
   "source": [
    "with open(\"./../12_class(Error_and_File_Handling/abc1.txt\", 'r+') as file:  # type: TextIO\n",
    "    print(file.read())\n",
    "    file.write(\"Pakistan zinda bad\\n\")\n",
    "    file.write(\"Pakistan is my country\")\n",
    "    file.write(\"\\n\")"
   ]
  },
  {
   "cell_type": "code",
   "execution_count": 38,
   "metadata": {},
   "outputs": [
    {
     "name": "stdout",
     "output_type": "stream",
     "text": [
      "Pakistan is my country\n",
      "WE love our country!WE love our country!WE love our country!My country is Pakistan!\n",
      "After \n",
      "WE love our country!WE love our country!WE love our country!My country is Pakistan!WE love our country!\n"
     ]
    }
   ],
   "source": [
    "with open(\"./../12_class(Error_and_File_Handling/abc1.txt\", 'r+') as file:  # type: TextIO\n",
    "    print(file.read())\n",
    "\n",
    "    file.write(\"WE love our country!\")\n",
    "    file.seek(0)\n",
    "    file.write(\"My country is Pakistan!\")\n",
    "\n",
    "    print(\"After\",file.read())"
   ]
  },
  {
   "cell_type": "code",
   "execution_count": 41,
   "metadata": {},
   "outputs": [
    {
     "name": "stdout",
     "output_type": "stream",
     "text": [
      "b''\n"
     ]
    }
   ],
   "source": [
    "with open(\"./../12_class(Error_and_File_Handling/abc4.txt\", 'rb+') as file:  # type: TextIO\n",
    "    print(file.read())\n",
    "    # file.write(\"line3\") \n",
    "\n",
    "\n",
    "# if file not exist then it will create new file"
   ]
  }
 ],
 "metadata": {
  "kernelspec": {
   "display_name": "base",
   "language": "python",
   "name": "python3"
  },
  "language_info": {
   "codemirror_mode": {
    "name": "ipython",
    "version": 3
   },
   "file_extension": ".py",
   "mimetype": "text/x-python",
   "name": "python",
   "nbconvert_exporter": "python",
   "pygments_lexer": "ipython3",
   "version": "3.11.5"
  }
 },
 "nbformat": 4,
 "nbformat_minor": 2
}
